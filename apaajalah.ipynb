{
 "cells": [
  {
   "cell_type": "code",
   "execution_count": null,
   "metadata": {},
   "outputs": [],
   "source": [
    "import pandas as pd\n",
    "\n",
    "# Muat data\n",
    "file_path = r\"C:\\Users\\ASUS\\OneDrive\\Documents\\jupyter\\UAS\\tatoeba_data.csv\"\n",
    "\n",
    "data = pd.read_csv(file_path, sep='\\t')\n",
    "\n",
    "# Ambil 1000 baris pertama\n",
    "subset = data.head(1000)\n",
    "\n",
    "# Simpan subset ke file baru\n",
    "subset.to_csv('subset_data.csv', index=False)\n",
    "print(\"Subset data saved to 'subset_data.csv'.\")"
   ]
  }
 ],
 "metadata": {
  "kernelspec": {
   "display_name": "Python 3",
   "language": "python",
   "name": "python3"
  },
  "language_info": {
   "codemirror_mode": {
    "name": "ipython",
    "version": 3
   },
   "file_extension": ".py",
   "mimetype": "text/x-python",
   "name": "python",
   "nbconvert_exporter": "python",
   "pygments_lexer": "ipython3",
   "version": "3.11.9"
  }
 },
 "nbformat": 4,
 "nbformat_minor": 2
}
